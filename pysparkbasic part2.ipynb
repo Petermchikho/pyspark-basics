{
 "cells": [
  {
   "cell_type": "code",
   "execution_count": 2,
   "id": "1df77fd7-919f-41ef-af07-5b92fa1333b2",
   "metadata": {},
   "outputs": [],
   "source": [
    "from pyspark.sql import SparkSession"
   ]
  },
  {
   "cell_type": "code",
   "execution_count": 3,
   "id": "68971066-6510-4718-87f5-68cdd3cea707",
   "metadata": {},
   "outputs": [],
   "source": [
    "spark=SparkSession.builder.appName('Practice').getOrCreate()"
   ]
  },
  {
   "cell_type": "code",
   "execution_count": 4,
   "id": "5bf1f2e7-0bbd-416a-b79e-7c9a2303113c",
   "metadata": {},
   "outputs": [
    {
     "data": {
      "text/html": [
       "\n",
       "            <div>\n",
       "                <p><b>SparkSession - in-memory</b></p>\n",
       "                \n",
       "        <div>\n",
       "            <p><b>SparkContext</b></p>\n",
       "\n",
       "            <p><a href=\"http://Peter:4041\">Spark UI</a></p>\n",
       "\n",
       "            <dl>\n",
       "              <dt>Version</dt>\n",
       "                <dd><code>v4.0.1</code></dd>\n",
       "              <dt>Master</dt>\n",
       "                <dd><code>local[*]</code></dd>\n",
       "              <dt>AppName</dt>\n",
       "                <dd><code>Practice</code></dd>\n",
       "            </dl>\n",
       "        </div>\n",
       "        \n",
       "            </div>\n",
       "        "
      ],
      "text/plain": [
       "<pyspark.sql.session.SparkSession at 0x199f92ff050>"
      ]
     },
     "execution_count": 4,
     "metadata": {},
     "output_type": "execute_result"
    }
   ],
   "source": [
    "spark"
   ]
  },
  {
   "cell_type": "code",
   "execution_count": 10,
   "id": "cfcb4d9e-ce16-419b-a364-a72aefe36ffd",
   "metadata": {},
   "outputs": [],
   "source": [
    "## reading a dataset\n",
    "df_pyspark=spark.read.option('header','true').csv('transactions.csv',inferSchema=True)"
   ]
  },
  {
   "cell_type": "code",
   "execution_count": 11,
   "id": "cf983ee9-7966-42b0-8302-1aac43c92992",
   "metadata": {},
   "outputs": [
    {
     "name": "stdout",
     "output_type": "stream",
     "text": [
      "+--------------------+---------------+--------------------+------------+-------+---------------+----------------+----------+-------------------+-------------------+\n",
      "|      Transaction ID|       Order ID|        Customer Ref|      MSISDN| Amount|Payment Channel|Transaction Type|    Status|       Initiated At|         Cleared At|\n",
      "+--------------------+---------------+--------------------+------------+-------+---------------+----------------+----------+-------------------+-------------------+\n",
      "|IP250908184500115...| TYND-SAFE-0475|MP250908.1845.Y18823|265989616710|   50.0|   Airtel Money| Invoice Payment| Completed|2025-09-08 18:45:48|2025-09-08 18:47:31|\n",
      "|  CP250907-1813-474B|       50349987|                NULL|265998671706|-1000.0|   Airtel Money| Customer Payout|Incomplete|2025-09-07 18:13:42|2025-09-07 18:13:42|\n",
      "|  CP250907-1129-6EB0|       65227619|                NULL|265998671706|-1000.0|   Airtel Money| Customer Payout|Incomplete|2025-09-07 11:29:26|2025-09-07 11:29:26|\n",
      "|IP25090613050021c...|TYND-SMART-6681|10100000000885769811|265883666222|   50.0|     TNM Mpamba| Invoice Payment|    Failed|2025-09-06 13:05:01|2025-09-06 13:07:41|\n",
      "|IP25090520490011c...| TYND-SAFE-2960|                NULL|265995246870|   50.0|   Airtel Money| Invoice Payment|Incomplete|2025-09-05 20:49:24|2025-09-05 20:49:24|\n",
      "|IP250904005700214...|TYND-PRIME-4844|         CI482BWPJC2|265889503618|   50.0|     TNM Mpamba| Invoice Payment|    Failed|2025-09-04 00:57:34|2025-09-04 00:58:12|\n",
      "|IP25090318170011e...|TYND-SWIFT-2018|                NULL|265985603354|   50.0|   Airtel Money| Invoice Payment|Incomplete|2025-09-03 18:17:24|2025-09-03 18:17:24|\n",
      "|IP250903130100113...|TYND-PRIME-5105|MP250903.1301.G87955|265985603354|   50.0|   Airtel Money| Invoice Payment| Completed|2025-09-03 13:01:27|2025-09-03 13:01:49|\n",
      "|IP25090312590011f...|TYND-QUICK-7567|MP250903.1259.G87632|265985603354|   50.0|   Airtel Money| Invoice Payment| Completed|2025-09-03 12:59:08|2025-09-03 12:59:31|\n",
      "|  SF250902-0933-6E4B|        4054935|CI250902.0933.H28954|265998671706|  -2.55|   Airtel Money|     Service Fee| Completed|2025-09-02 09:33:04|2025-09-02 09:33:04|\n",
      "|  SF250902-0933-7BD5|        4384784|CI250902.0933.I27661|265994791131|  -2.55|   Airtel Money|     Service Fee| Completed|2025-09-02 09:33:04|2025-09-02 09:33:04|\n",
      "|  SF250902-0933-1F8D|       54523239|CI250902.0933.Y27949|265998671706|  -2.55|   Airtel Money|     Service Fee| Completed|2025-09-02 09:33:04|2025-09-02 09:33:04|\n",
      "|  SF250902-0933-65D8|       54523239|CI250902.0933.Y27949|265998671706|  -2.55|   Airtel Money|     Service Fee| Completed|2025-09-02 09:33:04|2025-09-02 09:33:04|\n",
      "|  SF250902-0933-708A|        4054935|CI250902.0933.H28954|265998671706|  -2.55|   Airtel Money|     Service Fee| Completed|2025-09-02 09:33:04|2025-09-02 09:33:04|\n",
      "|  SF250902-0933-6167|        4384784|CI250902.0933.I27661|265994791131|  -2.55|   Airtel Money|     Service Fee| Completed|2025-09-02 09:33:04|2025-09-02 09:33:04|\n",
      "|  SF250902-0933-76FE|       72884897|CI250902.0933.B31153|265998671706|  -2.55|   Airtel Money|     Service Fee| Completed|2025-09-02 09:33:03|2025-09-02 09:33:03|\n",
      "|  SF250902-0933-3B56|       72884897|CI250902.0933.B31153|265998671706|  -2.55|   Airtel Money|     Service Fee| Completed|2025-09-02 09:33:03|2025-09-02 09:33:03|\n",
      "|  SF250902-0933-A6A0|       79627151|CI250902.0933.H28951|265998671706|  -2.55|   Airtel Money|     Service Fee| Completed|2025-09-02 09:33:03|2025-09-02 09:33:03|\n",
      "|  SF250902-0933-7BBD|       33777401|CI250902.0933.Y27948|265998671706|  -2.55|   Airtel Money|     Service Fee| Completed|2025-09-02 09:33:03|2025-09-02 09:33:03|\n",
      "|  SF250902-0933-E058|       79627151|CI250902.0933.H28951|265998671706|  -2.55|   Airtel Money|     Service Fee| Completed|2025-09-02 09:33:03|2025-09-02 09:33:03|\n",
      "+--------------------+---------------+--------------------+------------+-------+---------------+----------------+----------+-------------------+-------------------+\n",
      "only showing top 20 rows\n"
     ]
    }
   ],
   "source": [
    "df_pyspark.show()"
   ]
  },
  {
   "cell_type": "code",
   "execution_count": 12,
   "id": "d841c491-52e4-4018-810e-ccef5aff2182",
   "metadata": {},
   "outputs": [
    {
     "name": "stdout",
     "output_type": "stream",
     "text": [
      "root\n",
      " |-- Transaction ID: string (nullable = true)\n",
      " |-- Order ID: string (nullable = true)\n",
      " |-- Customer Ref: string (nullable = true)\n",
      " |-- MSISDN: long (nullable = true)\n",
      " |-- Amount: double (nullable = true)\n",
      " |-- Payment Channel: string (nullable = true)\n",
      " |-- Transaction Type: string (nullable = true)\n",
      " |-- Status: string (nullable = true)\n",
      " |-- Initiated At: timestamp (nullable = true)\n",
      " |-- Cleared At: timestamp (nullable = true)\n",
      "\n"
     ]
    }
   ],
   "source": [
    "### check the schema\n",
    "df_pyspark.printSchema()"
   ]
  },
  {
   "cell_type": "code",
   "execution_count": 15,
   "id": "5b7bf998-6479-48cb-a1f7-34e8759f2659",
   "metadata": {},
   "outputs": [
    {
     "name": "stdout",
     "output_type": "stream",
     "text": [
      "+--------------------+---------------+--------------------+------------+-------+---------------+----------------+----------+-------------------+-------------------+\n",
      "|      Transaction ID|       Order ID|        Customer Ref|      MSISDN| Amount|Payment Channel|Transaction Type|    Status|       Initiated At|         Cleared At|\n",
      "+--------------------+---------------+--------------------+------------+-------+---------------+----------------+----------+-------------------+-------------------+\n",
      "|IP250908184500115...| TYND-SAFE-0475|MP250908.1845.Y18823|265989616710|   50.0|   Airtel Money| Invoice Payment| Completed|2025-09-08 18:45:48|2025-09-08 18:47:31|\n",
      "|  CP250907-1813-474B|       50349987|                NULL|265998671706|-1000.0|   Airtel Money| Customer Payout|Incomplete|2025-09-07 18:13:42|2025-09-07 18:13:42|\n",
      "|  CP250907-1129-6EB0|       65227619|                NULL|265998671706|-1000.0|   Airtel Money| Customer Payout|Incomplete|2025-09-07 11:29:26|2025-09-07 11:29:26|\n",
      "|IP25090613050021c...|TYND-SMART-6681|10100000000885769811|265883666222|   50.0|     TNM Mpamba| Invoice Payment|    Failed|2025-09-06 13:05:01|2025-09-06 13:07:41|\n",
      "|IP25090520490011c...| TYND-SAFE-2960|                NULL|265995246870|   50.0|   Airtel Money| Invoice Payment|Incomplete|2025-09-05 20:49:24|2025-09-05 20:49:24|\n",
      "|IP250904005700214...|TYND-PRIME-4844|         CI482BWPJC2|265889503618|   50.0|     TNM Mpamba| Invoice Payment|    Failed|2025-09-04 00:57:34|2025-09-04 00:58:12|\n",
      "|IP25090318170011e...|TYND-SWIFT-2018|                NULL|265985603354|   50.0|   Airtel Money| Invoice Payment|Incomplete|2025-09-03 18:17:24|2025-09-03 18:17:24|\n",
      "|IP250903130100113...|TYND-PRIME-5105|MP250903.1301.G87955|265985603354|   50.0|   Airtel Money| Invoice Payment| Completed|2025-09-03 13:01:27|2025-09-03 13:01:49|\n",
      "|IP25090312590011f...|TYND-QUICK-7567|MP250903.1259.G87632|265985603354|   50.0|   Airtel Money| Invoice Payment| Completed|2025-09-03 12:59:08|2025-09-03 12:59:31|\n",
      "|  SF250902-0933-6E4B|        4054935|CI250902.0933.H28954|265998671706|  -2.55|   Airtel Money|     Service Fee| Completed|2025-09-02 09:33:04|2025-09-02 09:33:04|\n",
      "|  SF250902-0933-7BD5|        4384784|CI250902.0933.I27661|265994791131|  -2.55|   Airtel Money|     Service Fee| Completed|2025-09-02 09:33:04|2025-09-02 09:33:04|\n",
      "|  SF250902-0933-1F8D|       54523239|CI250902.0933.Y27949|265998671706|  -2.55|   Airtel Money|     Service Fee| Completed|2025-09-02 09:33:04|2025-09-02 09:33:04|\n",
      "|  SF250902-0933-65D8|       54523239|CI250902.0933.Y27949|265998671706|  -2.55|   Airtel Money|     Service Fee| Completed|2025-09-02 09:33:04|2025-09-02 09:33:04|\n",
      "|  SF250902-0933-708A|        4054935|CI250902.0933.H28954|265998671706|  -2.55|   Airtel Money|     Service Fee| Completed|2025-09-02 09:33:04|2025-09-02 09:33:04|\n",
      "|  SF250902-0933-6167|        4384784|CI250902.0933.I27661|265994791131|  -2.55|   Airtel Money|     Service Fee| Completed|2025-09-02 09:33:04|2025-09-02 09:33:04|\n",
      "|  SF250902-0933-76FE|       72884897|CI250902.0933.B31153|265998671706|  -2.55|   Airtel Money|     Service Fee| Completed|2025-09-02 09:33:03|2025-09-02 09:33:03|\n",
      "|  SF250902-0933-3B56|       72884897|CI250902.0933.B31153|265998671706|  -2.55|   Airtel Money|     Service Fee| Completed|2025-09-02 09:33:03|2025-09-02 09:33:03|\n",
      "|  SF250902-0933-A6A0|       79627151|CI250902.0933.H28951|265998671706|  -2.55|   Airtel Money|     Service Fee| Completed|2025-09-02 09:33:03|2025-09-02 09:33:03|\n",
      "|  SF250902-0933-7BBD|       33777401|CI250902.0933.Y27948|265998671706|  -2.55|   Airtel Money|     Service Fee| Completed|2025-09-02 09:33:03|2025-09-02 09:33:03|\n",
      "|  SF250902-0933-E058|       79627151|CI250902.0933.H28951|265998671706|  -2.55|   Airtel Money|     Service Fee| Completed|2025-09-02 09:33:03|2025-09-02 09:33:03|\n",
      "+--------------------+---------------+--------------------+------------+-------+---------------+----------------+----------+-------------------+-------------------+\n",
      "only showing top 20 rows\n"
     ]
    }
   ],
   "source": [
    "df_pyspark=spark.read.csv('transactions.csv',header=True,inferSchema=True)\n",
    "df_pyspark.show()"
   ]
  },
  {
   "cell_type": "code",
   "execution_count": 16,
   "id": "81fd5627-5750-4379-aa28-47fcd1d84c81",
   "metadata": {},
   "outputs": [
    {
     "name": "stdout",
     "output_type": "stream",
     "text": [
      "root\n",
      " |-- Transaction ID: string (nullable = true)\n",
      " |-- Order ID: string (nullable = true)\n",
      " |-- Customer Ref: string (nullable = true)\n",
      " |-- MSISDN: long (nullable = true)\n",
      " |-- Amount: double (nullable = true)\n",
      " |-- Payment Channel: string (nullable = true)\n",
      " |-- Transaction Type: string (nullable = true)\n",
      " |-- Status: string (nullable = true)\n",
      " |-- Initiated At: timestamp (nullable = true)\n",
      " |-- Cleared At: timestamp (nullable = true)\n",
      "\n"
     ]
    }
   ],
   "source": [
    "df_pyspark.printSchema()"
   ]
  },
  {
   "cell_type": "code",
   "execution_count": 17,
   "id": "fa820208-1d03-4f1b-a7ab-758b230ee805",
   "metadata": {},
   "outputs": [
    {
     "data": {
      "text/plain": [
       "pyspark.sql.classic.dataframe.DataFrame"
      ]
     },
     "execution_count": 17,
     "metadata": {},
     "output_type": "execute_result"
    }
   ],
   "source": [
    "type(df_pyspark)"
   ]
  },
  {
   "cell_type": "code",
   "execution_count": 18,
   "id": "7f4cec6b-40a0-4114-b994-ad3862be2d6d",
   "metadata": {},
   "outputs": [
    {
     "data": {
      "text/plain": [
       "['Transaction ID',\n",
       " 'Order ID',\n",
       " 'Customer Ref',\n",
       " 'MSISDN',\n",
       " 'Amount',\n",
       " 'Payment Channel',\n",
       " 'Transaction Type',\n",
       " 'Status',\n",
       " 'Initiated At',\n",
       " 'Cleared At']"
      ]
     },
     "execution_count": 18,
     "metadata": {},
     "output_type": "execute_result"
    }
   ],
   "source": [
    "df_pyspark.columns"
   ]
  },
  {
   "cell_type": "code",
   "execution_count": 19,
   "id": "2357e807-22c6-410a-80ee-fa961946f4ca",
   "metadata": {},
   "outputs": [
    {
     "data": {
      "text/plain": [
       "[Row(Transaction ID='IP2509081845001156b465', Order ID='TYND-SAFE-0475', Customer Ref='MP250908.1845.Y18823', MSISDN=265989616710, Amount=50.0, Payment Channel='Airtel Money', Transaction Type='Invoice Payment', Status='Completed', Initiated At=datetime.datetime(2025, 9, 8, 18, 45, 48), Cleared At=datetime.datetime(2025, 9, 8, 18, 47, 31)),\n",
       " Row(Transaction ID='CP250907-1813-474B', Order ID='50349987', Customer Ref=None, MSISDN=265998671706, Amount=-1000.0, Payment Channel='Airtel Money', Transaction Type='Customer Payout', Status='Incomplete', Initiated At=datetime.datetime(2025, 9, 7, 18, 13, 42), Cleared At=datetime.datetime(2025, 9, 7, 18, 13, 42)),\n",
       " Row(Transaction ID='CP250907-1129-6EB0', Order ID='65227619', Customer Ref=None, MSISDN=265998671706, Amount=-1000.0, Payment Channel='Airtel Money', Transaction Type='Customer Payout', Status='Incomplete', Initiated At=datetime.datetime(2025, 9, 7, 11, 29, 26), Cleared At=datetime.datetime(2025, 9, 7, 11, 29, 26))]"
      ]
     },
     "execution_count": 19,
     "metadata": {},
     "output_type": "execute_result"
    }
   ],
   "source": [
    "df_pyspark.head(3)"
   ]
  },
  {
   "cell_type": "code",
   "execution_count": 20,
   "id": "f9e12c1d-d626-4ebb-9eb6-fa3caeab44eb",
   "metadata": {},
   "outputs": [
    {
     "data": {
      "text/plain": [
       "DataFrame[Transaction ID: string]"
      ]
     },
     "execution_count": 20,
     "metadata": {},
     "output_type": "execute_result"
    }
   ],
   "source": [
    "### showing a column\n",
    "df_pyspark.select('Transaction ID')"
   ]
  },
  {
   "cell_type": "code",
   "execution_count": 21,
   "id": "b5fe8e76-0e7e-4444-95f1-6fe26948087a",
   "metadata": {},
   "outputs": [
    {
     "name": "stdout",
     "output_type": "stream",
     "text": [
      "+--------------------+\n",
      "|      Transaction ID|\n",
      "+--------------------+\n",
      "|IP250908184500115...|\n",
      "|  CP250907-1813-474B|\n",
      "|  CP250907-1129-6EB0|\n",
      "|IP25090613050021c...|\n",
      "|IP25090520490011c...|\n",
      "|IP250904005700214...|\n",
      "|IP25090318170011e...|\n",
      "|IP250903130100113...|\n",
      "|IP25090312590011f...|\n",
      "|  SF250902-0933-6E4B|\n",
      "|  SF250902-0933-7BD5|\n",
      "|  SF250902-0933-1F8D|\n",
      "|  SF250902-0933-65D8|\n",
      "|  SF250902-0933-708A|\n",
      "|  SF250902-0933-6167|\n",
      "|  SF250902-0933-76FE|\n",
      "|  SF250902-0933-3B56|\n",
      "|  SF250902-0933-A6A0|\n",
      "|  SF250902-0933-7BBD|\n",
      "|  SF250902-0933-E058|\n",
      "+--------------------+\n",
      "only showing top 20 rows\n"
     ]
    }
   ],
   "source": [
    "df_pyspark.select('Transaction ID').show()"
   ]
  },
  {
   "cell_type": "code",
   "execution_count": 22,
   "id": "39fbf417-8a01-4c2e-966f-361d51c7b81a",
   "metadata": {},
   "outputs": [
    {
     "data": {
      "text/plain": [
       "DataFrame[Transaction ID: string, Amount: double]"
      ]
     },
     "execution_count": 22,
     "metadata": {},
     "output_type": "execute_result"
    }
   ],
   "source": [
    "df_pyspark.select(['Transaction ID','Amount'])"
   ]
  },
  {
   "cell_type": "code",
   "execution_count": 23,
   "id": "f3c6cc52-525b-42cd-aa7f-ad4ab71b4d92",
   "metadata": {},
   "outputs": [
    {
     "name": "stdout",
     "output_type": "stream",
     "text": [
      "+--------------------+-------+\n",
      "|      Transaction ID| Amount|\n",
      "+--------------------+-------+\n",
      "|IP250908184500115...|   50.0|\n",
      "|  CP250907-1813-474B|-1000.0|\n",
      "|  CP250907-1129-6EB0|-1000.0|\n",
      "|IP25090613050021c...|   50.0|\n",
      "|IP25090520490011c...|   50.0|\n",
      "|IP250904005700214...|   50.0|\n",
      "|IP25090318170011e...|   50.0|\n",
      "|IP250903130100113...|   50.0|\n",
      "|IP25090312590011f...|   50.0|\n",
      "|  SF250902-0933-6E4B|  -2.55|\n",
      "|  SF250902-0933-7BD5|  -2.55|\n",
      "|  SF250902-0933-1F8D|  -2.55|\n",
      "|  SF250902-0933-65D8|  -2.55|\n",
      "|  SF250902-0933-708A|  -2.55|\n",
      "|  SF250902-0933-6167|  -2.55|\n",
      "|  SF250902-0933-76FE|  -2.55|\n",
      "|  SF250902-0933-3B56|  -2.55|\n",
      "|  SF250902-0933-A6A0|  -2.55|\n",
      "|  SF250902-0933-7BBD|  -2.55|\n",
      "|  SF250902-0933-E058|  -2.55|\n",
      "+--------------------+-------+\n",
      "only showing top 20 rows\n"
     ]
    }
   ],
   "source": [
    "df_pyspark.select(['Transaction ID','Amount']).show()"
   ]
  },
  {
   "cell_type": "code",
   "execution_count": 24,
   "id": "cef0bc08-ffb1-4478-8b14-98d7f1be0490",
   "metadata": {},
   "outputs": [
    {
     "data": {
      "text/plain": [
       "[('Transaction ID', 'string'),\n",
       " ('Order ID', 'string'),\n",
       " ('Customer Ref', 'string'),\n",
       " ('MSISDN', 'bigint'),\n",
       " ('Amount', 'double'),\n",
       " ('Payment Channel', 'string'),\n",
       " ('Transaction Type', 'string'),\n",
       " ('Status', 'string'),\n",
       " ('Initiated At', 'timestamp'),\n",
       " ('Cleared At', 'timestamp')]"
      ]
     },
     "execution_count": 24,
     "metadata": {},
     "output_type": "execute_result"
    }
   ],
   "source": [
    "### checking data types\n",
    "df_pyspark.dtypes"
   ]
  },
  {
   "cell_type": "code",
   "execution_count": 25,
   "id": "8e9072f1-8679-45b0-a0e2-6c72795a7ce4",
   "metadata": {},
   "outputs": [
    {
     "data": {
      "text/plain": [
       "DataFrame[summary: string, Transaction ID: string, Order ID: string, Customer Ref: string, MSISDN: string, Amount: string, Payment Channel: string, Transaction Type: string, Status: string]"
      ]
     },
     "execution_count": 25,
     "metadata": {},
     "output_type": "execute_result"
    }
   ],
   "source": [
    "df_pyspark.describe()"
   ]
  },
  {
   "cell_type": "code",
   "execution_count": 26,
   "id": "b412fb69-5cd0-42d8-b945-550da5d79de4",
   "metadata": {},
   "outputs": [
    {
     "name": "stdout",
     "output_type": "stream",
     "text": [
      "+-------+--------------------+--------------------+--------------------+--------------------+------------------+---------------+----------------+----------+\n",
      "|summary|      Transaction ID|            Order ID|        Customer Ref|              MSISDN|            Amount|Payment Channel|Transaction Type|    Status|\n",
      "+-------+--------------------+--------------------+--------------------+--------------------+------------------+---------------+----------------+----------+\n",
      "|  count|                 261|                 261|                 249|                 261|               261|            261|             261|       261|\n",
      "|   mean|                NULL|       4.316674135E7|1.010000000086248...|2.659622201107279...| 5577.868812260535|           NULL|            NULL|      NULL|\n",
      "| stddev|                NULL|2.9849254747662306E7|1.2845295068070054E7| 4.974780626293652E7|31232.414215318757|           NULL|            NULL|      NULL|\n",
      "|    min|CP25081214470013f...|        16428BFBE2A1|10100000000846741388|        265880113716|           -1000.0|   Airtel Money| Customer Payout| Completed|\n",
      "|    max|  SF250902-0933-E058|     TYND-SWIFT-9596|                  NA|        265999433830|          320000.0|     TNM Mpamba|     Service Fee|Incomplete|\n",
      "+-------+--------------------+--------------------+--------------------+--------------------+------------------+---------------+----------------+----------+\n",
      "\n"
     ]
    }
   ],
   "source": [
    "df_pyspark.describe().show()"
   ]
  },
  {
   "cell_type": "code",
   "execution_count": 30,
   "id": "0661d7c1-2520-45e9-9621-4345e3d127ba",
   "metadata": {},
   "outputs": [
    {
     "name": "stdout",
     "output_type": "stream",
     "text": [
      "+--------------------+-------+------+\n",
      "|      Transaction ID| Amount|Refund|\n",
      "+--------------------+-------+------+\n",
      "|IP250908184500115...|   50.0| -50.0|\n",
      "|  CP250907-1813-474B|-1000.0|1000.0|\n",
      "|  CP250907-1129-6EB0|-1000.0|1000.0|\n",
      "|IP25090613050021c...|   50.0| -50.0|\n",
      "|IP25090520490011c...|   50.0| -50.0|\n",
      "|IP250904005700214...|   50.0| -50.0|\n",
      "|IP25090318170011e...|   50.0| -50.0|\n",
      "|IP250903130100113...|   50.0| -50.0|\n",
      "|IP25090312590011f...|   50.0| -50.0|\n",
      "|  SF250902-0933-6E4B|  -2.55|  2.55|\n",
      "|  SF250902-0933-7BD5|  -2.55|  2.55|\n",
      "|  SF250902-0933-1F8D|  -2.55|  2.55|\n",
      "|  SF250902-0933-65D8|  -2.55|  2.55|\n",
      "|  SF250902-0933-708A|  -2.55|  2.55|\n",
      "|  SF250902-0933-6167|  -2.55|  2.55|\n",
      "|  SF250902-0933-76FE|  -2.55|  2.55|\n",
      "|  SF250902-0933-3B56|  -2.55|  2.55|\n",
      "|  SF250902-0933-A6A0|  -2.55|  2.55|\n",
      "|  SF250902-0933-7BBD|  -2.55|  2.55|\n",
      "|  SF250902-0933-E058|  -2.55|  2.55|\n",
      "+--------------------+-------+------+\n",
      "only showing top 20 rows\n"
     ]
    }
   ],
   "source": [
    "### Adding Colums in data frames\n",
    "df_pyspark.withColumn('Refund',-df_pyspark['Amount']).select(['Transaction ID','Amount','Refund']).show()\n",
    "df_pyspark=df_pyspark.withColumn('Refund',-df_pyspark['Amount'])"
   ]
  },
  {
   "cell_type": "code",
   "execution_count": 31,
   "id": "8a7f27bf-bc11-4048-8451-fcb68c7b46f3",
   "metadata": {},
   "outputs": [
    {
     "name": "stdout",
     "output_type": "stream",
     "text": [
      "+--------------------+---------------+--------------------+------------+-------+---------------+----------------+----------+-------------------+-------------------+------+\n",
      "|      Transaction ID|       Order ID|        Customer Ref|      MSISDN| Amount|Payment Channel|Transaction Type|    Status|       Initiated At|         Cleared At|Refund|\n",
      "+--------------------+---------------+--------------------+------------+-------+---------------+----------------+----------+-------------------+-------------------+------+\n",
      "|IP250908184500115...| TYND-SAFE-0475|MP250908.1845.Y18823|265989616710|   50.0|   Airtel Money| Invoice Payment| Completed|2025-09-08 18:45:48|2025-09-08 18:47:31| -50.0|\n",
      "|  CP250907-1813-474B|       50349987|                NULL|265998671706|-1000.0|   Airtel Money| Customer Payout|Incomplete|2025-09-07 18:13:42|2025-09-07 18:13:42|1000.0|\n",
      "|  CP250907-1129-6EB0|       65227619|                NULL|265998671706|-1000.0|   Airtel Money| Customer Payout|Incomplete|2025-09-07 11:29:26|2025-09-07 11:29:26|1000.0|\n",
      "|IP25090613050021c...|TYND-SMART-6681|10100000000885769811|265883666222|   50.0|     TNM Mpamba| Invoice Payment|    Failed|2025-09-06 13:05:01|2025-09-06 13:07:41| -50.0|\n",
      "|IP25090520490011c...| TYND-SAFE-2960|                NULL|265995246870|   50.0|   Airtel Money| Invoice Payment|Incomplete|2025-09-05 20:49:24|2025-09-05 20:49:24| -50.0|\n",
      "|IP250904005700214...|TYND-PRIME-4844|         CI482BWPJC2|265889503618|   50.0|     TNM Mpamba| Invoice Payment|    Failed|2025-09-04 00:57:34|2025-09-04 00:58:12| -50.0|\n",
      "|IP25090318170011e...|TYND-SWIFT-2018|                NULL|265985603354|   50.0|   Airtel Money| Invoice Payment|Incomplete|2025-09-03 18:17:24|2025-09-03 18:17:24| -50.0|\n",
      "|IP250903130100113...|TYND-PRIME-5105|MP250903.1301.G87955|265985603354|   50.0|   Airtel Money| Invoice Payment| Completed|2025-09-03 13:01:27|2025-09-03 13:01:49| -50.0|\n",
      "|IP25090312590011f...|TYND-QUICK-7567|MP250903.1259.G87632|265985603354|   50.0|   Airtel Money| Invoice Payment| Completed|2025-09-03 12:59:08|2025-09-03 12:59:31| -50.0|\n",
      "|  SF250902-0933-6E4B|        4054935|CI250902.0933.H28954|265998671706|  -2.55|   Airtel Money|     Service Fee| Completed|2025-09-02 09:33:04|2025-09-02 09:33:04|  2.55|\n",
      "|  SF250902-0933-7BD5|        4384784|CI250902.0933.I27661|265994791131|  -2.55|   Airtel Money|     Service Fee| Completed|2025-09-02 09:33:04|2025-09-02 09:33:04|  2.55|\n",
      "|  SF250902-0933-1F8D|       54523239|CI250902.0933.Y27949|265998671706|  -2.55|   Airtel Money|     Service Fee| Completed|2025-09-02 09:33:04|2025-09-02 09:33:04|  2.55|\n",
      "|  SF250902-0933-65D8|       54523239|CI250902.0933.Y27949|265998671706|  -2.55|   Airtel Money|     Service Fee| Completed|2025-09-02 09:33:04|2025-09-02 09:33:04|  2.55|\n",
      "|  SF250902-0933-708A|        4054935|CI250902.0933.H28954|265998671706|  -2.55|   Airtel Money|     Service Fee| Completed|2025-09-02 09:33:04|2025-09-02 09:33:04|  2.55|\n",
      "|  SF250902-0933-6167|        4384784|CI250902.0933.I27661|265994791131|  -2.55|   Airtel Money|     Service Fee| Completed|2025-09-02 09:33:04|2025-09-02 09:33:04|  2.55|\n",
      "|  SF250902-0933-76FE|       72884897|CI250902.0933.B31153|265998671706|  -2.55|   Airtel Money|     Service Fee| Completed|2025-09-02 09:33:03|2025-09-02 09:33:03|  2.55|\n",
      "|  SF250902-0933-3B56|       72884897|CI250902.0933.B31153|265998671706|  -2.55|   Airtel Money|     Service Fee| Completed|2025-09-02 09:33:03|2025-09-02 09:33:03|  2.55|\n",
      "|  SF250902-0933-A6A0|       79627151|CI250902.0933.H28951|265998671706|  -2.55|   Airtel Money|     Service Fee| Completed|2025-09-02 09:33:03|2025-09-02 09:33:03|  2.55|\n",
      "|  SF250902-0933-7BBD|       33777401|CI250902.0933.Y27948|265998671706|  -2.55|   Airtel Money|     Service Fee| Completed|2025-09-02 09:33:03|2025-09-02 09:33:03|  2.55|\n",
      "|  SF250902-0933-E058|       79627151|CI250902.0933.H28951|265998671706|  -2.55|   Airtel Money|     Service Fee| Completed|2025-09-02 09:33:03|2025-09-02 09:33:03|  2.55|\n",
      "+--------------------+---------------+--------------------+------------+-------+---------------+----------------+----------+-------------------+-------------------+------+\n",
      "only showing top 20 rows\n"
     ]
    }
   ],
   "source": [
    "df_pyspark.show()"
   ]
  },
  {
   "cell_type": "code",
   "execution_count": 33,
   "id": "a90bf1e3-d1ab-408b-b29b-a487fe2ff9d0",
   "metadata": {},
   "outputs": [
    {
     "name": "stdout",
     "output_type": "stream",
     "text": [
      "+--------------------+---------------+--------------------+------------+-------+---------------+----------------+----------+-------------------+-------------------+\n",
      "|      Transaction ID|       Order ID|        Customer Ref|      MSISDN| Amount|Payment Channel|Transaction Type|    Status|       Initiated At|         Cleared At|\n",
      "+--------------------+---------------+--------------------+------------+-------+---------------+----------------+----------+-------------------+-------------------+\n",
      "|IP250908184500115...| TYND-SAFE-0475|MP250908.1845.Y18823|265989616710|   50.0|   Airtel Money| Invoice Payment| Completed|2025-09-08 18:45:48|2025-09-08 18:47:31|\n",
      "|  CP250907-1813-474B|       50349987|                NULL|265998671706|-1000.0|   Airtel Money| Customer Payout|Incomplete|2025-09-07 18:13:42|2025-09-07 18:13:42|\n",
      "|  CP250907-1129-6EB0|       65227619|                NULL|265998671706|-1000.0|   Airtel Money| Customer Payout|Incomplete|2025-09-07 11:29:26|2025-09-07 11:29:26|\n",
      "|IP25090613050021c...|TYND-SMART-6681|10100000000885769811|265883666222|   50.0|     TNM Mpamba| Invoice Payment|    Failed|2025-09-06 13:05:01|2025-09-06 13:07:41|\n",
      "|IP25090520490011c...| TYND-SAFE-2960|                NULL|265995246870|   50.0|   Airtel Money| Invoice Payment|Incomplete|2025-09-05 20:49:24|2025-09-05 20:49:24|\n",
      "|IP250904005700214...|TYND-PRIME-4844|         CI482BWPJC2|265889503618|   50.0|     TNM Mpamba| Invoice Payment|    Failed|2025-09-04 00:57:34|2025-09-04 00:58:12|\n",
      "|IP25090318170011e...|TYND-SWIFT-2018|                NULL|265985603354|   50.0|   Airtel Money| Invoice Payment|Incomplete|2025-09-03 18:17:24|2025-09-03 18:17:24|\n",
      "|IP250903130100113...|TYND-PRIME-5105|MP250903.1301.G87955|265985603354|   50.0|   Airtel Money| Invoice Payment| Completed|2025-09-03 13:01:27|2025-09-03 13:01:49|\n",
      "|IP25090312590011f...|TYND-QUICK-7567|MP250903.1259.G87632|265985603354|   50.0|   Airtel Money| Invoice Payment| Completed|2025-09-03 12:59:08|2025-09-03 12:59:31|\n",
      "|  SF250902-0933-6E4B|        4054935|CI250902.0933.H28954|265998671706|  -2.55|   Airtel Money|     Service Fee| Completed|2025-09-02 09:33:04|2025-09-02 09:33:04|\n",
      "|  SF250902-0933-7BD5|        4384784|CI250902.0933.I27661|265994791131|  -2.55|   Airtel Money|     Service Fee| Completed|2025-09-02 09:33:04|2025-09-02 09:33:04|\n",
      "|  SF250902-0933-1F8D|       54523239|CI250902.0933.Y27949|265998671706|  -2.55|   Airtel Money|     Service Fee| Completed|2025-09-02 09:33:04|2025-09-02 09:33:04|\n",
      "|  SF250902-0933-65D8|       54523239|CI250902.0933.Y27949|265998671706|  -2.55|   Airtel Money|     Service Fee| Completed|2025-09-02 09:33:04|2025-09-02 09:33:04|\n",
      "|  SF250902-0933-708A|        4054935|CI250902.0933.H28954|265998671706|  -2.55|   Airtel Money|     Service Fee| Completed|2025-09-02 09:33:04|2025-09-02 09:33:04|\n",
      "|  SF250902-0933-6167|        4384784|CI250902.0933.I27661|265994791131|  -2.55|   Airtel Money|     Service Fee| Completed|2025-09-02 09:33:04|2025-09-02 09:33:04|\n",
      "|  SF250902-0933-76FE|       72884897|CI250902.0933.B31153|265998671706|  -2.55|   Airtel Money|     Service Fee| Completed|2025-09-02 09:33:03|2025-09-02 09:33:03|\n",
      "|  SF250902-0933-3B56|       72884897|CI250902.0933.B31153|265998671706|  -2.55|   Airtel Money|     Service Fee| Completed|2025-09-02 09:33:03|2025-09-02 09:33:03|\n",
      "|  SF250902-0933-A6A0|       79627151|CI250902.0933.H28951|265998671706|  -2.55|   Airtel Money|     Service Fee| Completed|2025-09-02 09:33:03|2025-09-02 09:33:03|\n",
      "|  SF250902-0933-7BBD|       33777401|CI250902.0933.Y27948|265998671706|  -2.55|   Airtel Money|     Service Fee| Completed|2025-09-02 09:33:03|2025-09-02 09:33:03|\n",
      "|  SF250902-0933-E058|       79627151|CI250902.0933.H28951|265998671706|  -2.55|   Airtel Money|     Service Fee| Completed|2025-09-02 09:33:03|2025-09-02 09:33:03|\n",
      "+--------------------+---------------+--------------------+------------+-------+---------------+----------------+----------+-------------------+-------------------+\n",
      "only showing top 20 rows\n"
     ]
    }
   ],
   "source": [
    "df_pyspark.drop('Refund').show()\n",
    "df_pyspark=df_pyspark.drop('Refund')"
   ]
  },
  {
   "cell_type": "code",
   "execution_count": 34,
   "id": "9368966e-1002-4ef9-a22b-15b50fa708bb",
   "metadata": {},
   "outputs": [
    {
     "name": "stdout",
     "output_type": "stream",
     "text": [
      "+--------------------+---------------+--------------------+------------+-------+---------------+----------------+----------+-------------------+-------------------+\n",
      "|      Transaction ID|       Order ID|        Customer Ref|      MSISDN| Amount|Payment Channel|Transaction Type|    Status|       Initiated At|         Cleared At|\n",
      "+--------------------+---------------+--------------------+------------+-------+---------------+----------------+----------+-------------------+-------------------+\n",
      "|IP250908184500115...| TYND-SAFE-0475|MP250908.1845.Y18823|265989616710|   50.0|   Airtel Money| Invoice Payment| Completed|2025-09-08 18:45:48|2025-09-08 18:47:31|\n",
      "|  CP250907-1813-474B|       50349987|                NULL|265998671706|-1000.0|   Airtel Money| Customer Payout|Incomplete|2025-09-07 18:13:42|2025-09-07 18:13:42|\n",
      "|  CP250907-1129-6EB0|       65227619|                NULL|265998671706|-1000.0|   Airtel Money| Customer Payout|Incomplete|2025-09-07 11:29:26|2025-09-07 11:29:26|\n",
      "|IP25090613050021c...|TYND-SMART-6681|10100000000885769811|265883666222|   50.0|     TNM Mpamba| Invoice Payment|    Failed|2025-09-06 13:05:01|2025-09-06 13:07:41|\n",
      "|IP25090520490011c...| TYND-SAFE-2960|                NULL|265995246870|   50.0|   Airtel Money| Invoice Payment|Incomplete|2025-09-05 20:49:24|2025-09-05 20:49:24|\n",
      "|IP250904005700214...|TYND-PRIME-4844|         CI482BWPJC2|265889503618|   50.0|     TNM Mpamba| Invoice Payment|    Failed|2025-09-04 00:57:34|2025-09-04 00:58:12|\n",
      "|IP25090318170011e...|TYND-SWIFT-2018|                NULL|265985603354|   50.0|   Airtel Money| Invoice Payment|Incomplete|2025-09-03 18:17:24|2025-09-03 18:17:24|\n",
      "|IP250903130100113...|TYND-PRIME-5105|MP250903.1301.G87955|265985603354|   50.0|   Airtel Money| Invoice Payment| Completed|2025-09-03 13:01:27|2025-09-03 13:01:49|\n",
      "|IP25090312590011f...|TYND-QUICK-7567|MP250903.1259.G87632|265985603354|   50.0|   Airtel Money| Invoice Payment| Completed|2025-09-03 12:59:08|2025-09-03 12:59:31|\n",
      "|  SF250902-0933-6E4B|        4054935|CI250902.0933.H28954|265998671706|  -2.55|   Airtel Money|     Service Fee| Completed|2025-09-02 09:33:04|2025-09-02 09:33:04|\n",
      "|  SF250902-0933-7BD5|        4384784|CI250902.0933.I27661|265994791131|  -2.55|   Airtel Money|     Service Fee| Completed|2025-09-02 09:33:04|2025-09-02 09:33:04|\n",
      "|  SF250902-0933-1F8D|       54523239|CI250902.0933.Y27949|265998671706|  -2.55|   Airtel Money|     Service Fee| Completed|2025-09-02 09:33:04|2025-09-02 09:33:04|\n",
      "|  SF250902-0933-65D8|       54523239|CI250902.0933.Y27949|265998671706|  -2.55|   Airtel Money|     Service Fee| Completed|2025-09-02 09:33:04|2025-09-02 09:33:04|\n",
      "|  SF250902-0933-708A|        4054935|CI250902.0933.H28954|265998671706|  -2.55|   Airtel Money|     Service Fee| Completed|2025-09-02 09:33:04|2025-09-02 09:33:04|\n",
      "|  SF250902-0933-6167|        4384784|CI250902.0933.I27661|265994791131|  -2.55|   Airtel Money|     Service Fee| Completed|2025-09-02 09:33:04|2025-09-02 09:33:04|\n",
      "|  SF250902-0933-76FE|       72884897|CI250902.0933.B31153|265998671706|  -2.55|   Airtel Money|     Service Fee| Completed|2025-09-02 09:33:03|2025-09-02 09:33:03|\n",
      "|  SF250902-0933-3B56|       72884897|CI250902.0933.B31153|265998671706|  -2.55|   Airtel Money|     Service Fee| Completed|2025-09-02 09:33:03|2025-09-02 09:33:03|\n",
      "|  SF250902-0933-A6A0|       79627151|CI250902.0933.H28951|265998671706|  -2.55|   Airtel Money|     Service Fee| Completed|2025-09-02 09:33:03|2025-09-02 09:33:03|\n",
      "|  SF250902-0933-7BBD|       33777401|CI250902.0933.Y27948|265998671706|  -2.55|   Airtel Money|     Service Fee| Completed|2025-09-02 09:33:03|2025-09-02 09:33:03|\n",
      "|  SF250902-0933-E058|       79627151|CI250902.0933.H28951|265998671706|  -2.55|   Airtel Money|     Service Fee| Completed|2025-09-02 09:33:03|2025-09-02 09:33:03|\n",
      "+--------------------+---------------+--------------------+------------+-------+---------------+----------------+----------+-------------------+-------------------+\n",
      "only showing top 20 rows\n"
     ]
    }
   ],
   "source": [
    "df_pyspark.show()"
   ]
  },
  {
   "cell_type": "code",
   "execution_count": 35,
   "id": "12f7254e-4beb-4e22-a298-e60c1f9629eb",
   "metadata": {},
   "outputs": [
    {
     "name": "stdout",
     "output_type": "stream",
     "text": [
      "+--------------------+---------------+--------------------+------------+-------+---------------+----------------+----------+-------------------+-------------------+\n",
      "|      Transaction_ID|       Order ID|        Customer Ref|      MSISDN| Amount|Payment Channel|Transaction Type|    Status|       Initiated At|         Cleared At|\n",
      "+--------------------+---------------+--------------------+------------+-------+---------------+----------------+----------+-------------------+-------------------+\n",
      "|IP250908184500115...| TYND-SAFE-0475|MP250908.1845.Y18823|265989616710|   50.0|   Airtel Money| Invoice Payment| Completed|2025-09-08 18:45:48|2025-09-08 18:47:31|\n",
      "|  CP250907-1813-474B|       50349987|                NULL|265998671706|-1000.0|   Airtel Money| Customer Payout|Incomplete|2025-09-07 18:13:42|2025-09-07 18:13:42|\n",
      "|  CP250907-1129-6EB0|       65227619|                NULL|265998671706|-1000.0|   Airtel Money| Customer Payout|Incomplete|2025-09-07 11:29:26|2025-09-07 11:29:26|\n",
      "|IP25090613050021c...|TYND-SMART-6681|10100000000885769811|265883666222|   50.0|     TNM Mpamba| Invoice Payment|    Failed|2025-09-06 13:05:01|2025-09-06 13:07:41|\n",
      "|IP25090520490011c...| TYND-SAFE-2960|                NULL|265995246870|   50.0|   Airtel Money| Invoice Payment|Incomplete|2025-09-05 20:49:24|2025-09-05 20:49:24|\n",
      "|IP250904005700214...|TYND-PRIME-4844|         CI482BWPJC2|265889503618|   50.0|     TNM Mpamba| Invoice Payment|    Failed|2025-09-04 00:57:34|2025-09-04 00:58:12|\n",
      "|IP25090318170011e...|TYND-SWIFT-2018|                NULL|265985603354|   50.0|   Airtel Money| Invoice Payment|Incomplete|2025-09-03 18:17:24|2025-09-03 18:17:24|\n",
      "|IP250903130100113...|TYND-PRIME-5105|MP250903.1301.G87955|265985603354|   50.0|   Airtel Money| Invoice Payment| Completed|2025-09-03 13:01:27|2025-09-03 13:01:49|\n",
      "|IP25090312590011f...|TYND-QUICK-7567|MP250903.1259.G87632|265985603354|   50.0|   Airtel Money| Invoice Payment| Completed|2025-09-03 12:59:08|2025-09-03 12:59:31|\n",
      "|  SF250902-0933-6E4B|        4054935|CI250902.0933.H28954|265998671706|  -2.55|   Airtel Money|     Service Fee| Completed|2025-09-02 09:33:04|2025-09-02 09:33:04|\n",
      "|  SF250902-0933-7BD5|        4384784|CI250902.0933.I27661|265994791131|  -2.55|   Airtel Money|     Service Fee| Completed|2025-09-02 09:33:04|2025-09-02 09:33:04|\n",
      "|  SF250902-0933-1F8D|       54523239|CI250902.0933.Y27949|265998671706|  -2.55|   Airtel Money|     Service Fee| Completed|2025-09-02 09:33:04|2025-09-02 09:33:04|\n",
      "|  SF250902-0933-65D8|       54523239|CI250902.0933.Y27949|265998671706|  -2.55|   Airtel Money|     Service Fee| Completed|2025-09-02 09:33:04|2025-09-02 09:33:04|\n",
      "|  SF250902-0933-708A|        4054935|CI250902.0933.H28954|265998671706|  -2.55|   Airtel Money|     Service Fee| Completed|2025-09-02 09:33:04|2025-09-02 09:33:04|\n",
      "|  SF250902-0933-6167|        4384784|CI250902.0933.I27661|265994791131|  -2.55|   Airtel Money|     Service Fee| Completed|2025-09-02 09:33:04|2025-09-02 09:33:04|\n",
      "|  SF250902-0933-76FE|       72884897|CI250902.0933.B31153|265998671706|  -2.55|   Airtel Money|     Service Fee| Completed|2025-09-02 09:33:03|2025-09-02 09:33:03|\n",
      "|  SF250902-0933-3B56|       72884897|CI250902.0933.B31153|265998671706|  -2.55|   Airtel Money|     Service Fee| Completed|2025-09-02 09:33:03|2025-09-02 09:33:03|\n",
      "|  SF250902-0933-A6A0|       79627151|CI250902.0933.H28951|265998671706|  -2.55|   Airtel Money|     Service Fee| Completed|2025-09-02 09:33:03|2025-09-02 09:33:03|\n",
      "|  SF250902-0933-7BBD|       33777401|CI250902.0933.Y27948|265998671706|  -2.55|   Airtel Money|     Service Fee| Completed|2025-09-02 09:33:03|2025-09-02 09:33:03|\n",
      "|  SF250902-0933-E058|       79627151|CI250902.0933.H28951|265998671706|  -2.55|   Airtel Money|     Service Fee| Completed|2025-09-02 09:33:03|2025-09-02 09:33:03|\n",
      "+--------------------+---------------+--------------------+------------+-------+---------------+----------------+----------+-------------------+-------------------+\n",
      "only showing top 20 rows\n"
     ]
    }
   ],
   "source": [
    "### RENAME the columns \n",
    "df_pyspark.withColumnRenamed('Transaction ID','Transaction_ID').show()"
   ]
  },
  {
   "cell_type": "code",
   "execution_count": null,
   "id": "d4e0a01f-054f-4d19-9864-650168578964",
   "metadata": {},
   "outputs": [],
   "source": []
  }
 ],
 "metadata": {
  "kernelspec": {
   "display_name": "Python [conda env:base] *",
   "language": "python",
   "name": "conda-base-py"
  },
  "language_info": {
   "codemirror_mode": {
    "name": "ipython",
    "version": 3
   },
   "file_extension": ".py",
   "mimetype": "text/x-python",
   "name": "python",
   "nbconvert_exporter": "python",
   "pygments_lexer": "ipython3",
   "version": "3.12.7"
  }
 },
 "nbformat": 4,
 "nbformat_minor": 5
}
