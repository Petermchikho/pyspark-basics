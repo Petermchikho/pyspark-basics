{
 "cells": [
  {
   "cell_type": "code",
   "execution_count": 2,
   "id": "1df77fd7-919f-41ef-af07-5b92fa1333b2",
   "metadata": {},
   "outputs": [],
   "source": [
    "from pyspark.sql import SparkSession"
   ]
  },
  {
   "cell_type": "code",
   "execution_count": 3,
   "id": "68971066-6510-4718-87f5-68cdd3cea707",
   "metadata": {},
   "outputs": [],
   "source": [
    "spark=SparkSession.builder.appName('Practice').getOrCreate()"
   ]
  },
  {
   "cell_type": "code",
   "execution_count": 4,
   "id": "5bf1f2e7-0bbd-416a-b79e-7c9a2303113c",
   "metadata": {},
   "outputs": [
    {
     "data": {
      "text/html": [
       "\n",
       "            <div>\n",
       "                <p><b>SparkSession - in-memory</b></p>\n",
       "                \n",
       "        <div>\n",
       "            <p><b>SparkContext</b></p>\n",
       "\n",
       "            <p><a href=\"http://Peter:4041\">Spark UI</a></p>\n",
       "\n",
       "            <dl>\n",
       "              <dt>Version</dt>\n",
       "                <dd><code>v4.0.1</code></dd>\n",
       "              <dt>Master</dt>\n",
       "                <dd><code>local[*]</code></dd>\n",
       "              <dt>AppName</dt>\n",
       "                <dd><code>Practice</code></dd>\n",
       "            </dl>\n",
       "        </div>\n",
       "        \n",
       "            </div>\n",
       "        "
      ],
      "text/plain": [
       "<pyspark.sql.session.SparkSession at 0x199f92ff050>"
      ]
     },
     "execution_count": 4,
     "metadata": {},
     "output_type": "execute_result"
    }
   ],
   "source": [
    "spark"
   ]
  },
  {
   "cell_type": "code",
   "execution_count": 7,
   "id": "cfcb4d9e-ce16-419b-a364-a72aefe36ffd",
   "metadata": {},
   "outputs": [],
   "source": [
    "## reading a dataset\n",
    "df_pyspark=spark.read.option('header','true').csv('transactions.csv')"
   ]
  },
  {
   "cell_type": "code",
   "execution_count": 8,
   "id": "cf983ee9-7966-42b0-8302-1aac43c92992",
   "metadata": {},
   "outputs": [
    {
     "name": "stdout",
     "output_type": "stream",
     "text": [
      "+--------------------+---------------+--------------------+------------+------+---------------+----------------+----------+--------------------+--------------------+\n",
      "|      Transaction ID|       Order ID|        Customer Ref|      MSISDN|Amount|Payment Channel|Transaction Type|    Status|        Initiated At|          Cleared At|\n",
      "+--------------------+---------------+--------------------+------------+------+---------------+----------------+----------+--------------------+--------------------+\n",
      "|IP250908184500115...| TYND-SAFE-0475|MP250908.1845.Y18823|265989616710|    50|   Airtel Money| Invoice Payment| Completed|2025-09-08T16:45:...|2025-09-08T16:47:...|\n",
      "|  CP250907-1813-474B|       50349987|                NULL|265998671706| -1000|   Airtel Money| Customer Payout|Incomplete|2025-09-07T16:13:...|2025-09-07T16:13:...|\n",
      "|  CP250907-1129-6EB0|       65227619|                NULL|265998671706| -1000|   Airtel Money| Customer Payout|Incomplete|2025-09-07T09:29:...|2025-09-07T09:29:...|\n",
      "|IP25090613050021c...|TYND-SMART-6681|10100000000885769811|265883666222|    50|     TNM Mpamba| Invoice Payment|    Failed|2025-09-06T11:05:...|2025-09-06T11:07:...|\n",
      "|IP25090520490011c...| TYND-SAFE-2960|                NULL|265995246870|    50|   Airtel Money| Invoice Payment|Incomplete|2025-09-05T18:49:...|2025-09-05T18:49:...|\n",
      "|IP250904005700214...|TYND-PRIME-4844|         CI482BWPJC2|265889503618|    50|     TNM Mpamba| Invoice Payment|    Failed|2025-09-03T22:57:...|2025-09-03T22:58:...|\n",
      "|IP25090318170011e...|TYND-SWIFT-2018|                NULL|265985603354|    50|   Airtel Money| Invoice Payment|Incomplete|2025-09-03T16:17:...|2025-09-03T16:17:...|\n",
      "|IP250903130100113...|TYND-PRIME-5105|MP250903.1301.G87955|265985603354|    50|   Airtel Money| Invoice Payment| Completed|2025-09-03T11:01:...|2025-09-03T11:01:...|\n",
      "|IP25090312590011f...|TYND-QUICK-7567|MP250903.1259.G87632|265985603354|    50|   Airtel Money| Invoice Payment| Completed|2025-09-03T10:59:...|2025-09-03T10:59:...|\n",
      "|  SF250902-0933-6E4B|        4054935|CI250902.0933.H28954|265998671706| -2.55|   Airtel Money|     Service Fee| Completed|2025-09-02T07:33:...|2025-09-02T07:33:...|\n",
      "|  SF250902-0933-7BD5|        4384784|CI250902.0933.I27661|265994791131| -2.55|   Airtel Money|     Service Fee| Completed|2025-09-02T07:33:...|2025-09-02T07:33:...|\n",
      "|  SF250902-0933-1F8D|       54523239|CI250902.0933.Y27949|265998671706| -2.55|   Airtel Money|     Service Fee| Completed|2025-09-02T07:33:...|2025-09-02T07:33:...|\n",
      "|  SF250902-0933-65D8|       54523239|CI250902.0933.Y27949|265998671706| -2.55|   Airtel Money|     Service Fee| Completed|2025-09-02T07:33:...|2025-09-02T07:33:...|\n",
      "|  SF250902-0933-708A|        4054935|CI250902.0933.H28954|265998671706| -2.55|   Airtel Money|     Service Fee| Completed|2025-09-02T07:33:...|2025-09-02T07:33:...|\n",
      "|  SF250902-0933-6167|        4384784|CI250902.0933.I27661|265994791131| -2.55|   Airtel Money|     Service Fee| Completed|2025-09-02T07:33:...|2025-09-02T07:33:...|\n",
      "|  SF250902-0933-76FE|       72884897|CI250902.0933.B31153|265998671706| -2.55|   Airtel Money|     Service Fee| Completed|2025-09-02T07:33:...|2025-09-02T07:33:...|\n",
      "|  SF250902-0933-3B56|       72884897|CI250902.0933.B31153|265998671706| -2.55|   Airtel Money|     Service Fee| Completed|2025-09-02T07:33:...|2025-09-02T07:33:...|\n",
      "|  SF250902-0933-A6A0|       79627151|CI250902.0933.H28951|265998671706| -2.55|   Airtel Money|     Service Fee| Completed|2025-09-02T07:33:...|2025-09-02T07:33:...|\n",
      "|  SF250902-0933-7BBD|       33777401|CI250902.0933.Y27948|265998671706| -2.55|   Airtel Money|     Service Fee| Completed|2025-09-02T07:33:...|2025-09-02T07:33:...|\n",
      "|  SF250902-0933-E058|       79627151|CI250902.0933.H28951|265998671706| -2.55|   Airtel Money|     Service Fee| Completed|2025-09-02T07:33:...|2025-09-02T07:33:...|\n",
      "+--------------------+---------------+--------------------+------------+------+---------------+----------------+----------+--------------------+--------------------+\n",
      "only showing top 20 rows\n"
     ]
    }
   ],
   "source": [
    "df_pyspark.show()"
   ]
  },
  {
   "cell_type": "code",
   "execution_count": null,
   "id": "d841c491-52e4-4018-810e-ccef5aff2182",
   "metadata": {},
   "outputs": [],
   "source": []
  }
 ],
 "metadata": {
  "kernelspec": {
   "display_name": "Python [conda env:base] *",
   "language": "python",
   "name": "conda-base-py"
  },
  "language_info": {
   "codemirror_mode": {
    "name": "ipython",
    "version": 3
   },
   "file_extension": ".py",
   "mimetype": "text/x-python",
   "name": "python",
   "nbconvert_exporter": "python",
   "pygments_lexer": "ipython3",
   "version": "3.12.7"
  }
 },
 "nbformat": 4,
 "nbformat_minor": 5
}
